{
 "cells": [
  {
   "cell_type": "code",
   "execution_count": 1,
   "metadata": {},
   "outputs": [],
   "source": [
    "import json"
   ]
  },
  {
   "cell_type": "code",
   "execution_count": 36,
   "metadata": {},
   "outputs": [],
   "source": [
    "\n",
    "with open('/tempory/coco/annotations/instances_train2017.json') as f:\n",
    "  data = json.load(f)"
   ]
  },
  {
   "cell_type": "code",
   "execution_count": 37,
   "metadata": {},
   "outputs": [],
   "source": [
    "Nb_max = int(len(data[\"images\"]) *0.1)\n",
    "image_ids = []\n",
    "images = data[\"images\"][: Nb_max]\n",
    "for i in images:\n",
    "    image_ids.append(i[\"id\"])\n",
    "    \n",
    "    \n"
   ]
  },
  {
   "cell_type": "code",
   "execution_count": 40,
   "metadata": {},
   "outputs": [],
   "source": [
    "subset= [18, 10, 2, 58]\n",
    "annots = []\n",
    "for annot in data[\"annotations\"][:10]:\n",
    "    if annot[\"category_id\"] in subset and annot[\"image_id\"] in image_ids:\n",
    "        annots.append(annot)\n",
    "        "
   ]
  },
  {
   "cell_type": "code",
   "execution_count": 44,
   "metadata": {},
   "outputs": [],
   "source": [
    "categories = []\n",
    "for elem in data[\"categories\"]:\n",
    "    if elem[\"id\"] in subset:\n",
    "        categories.append(elem)"
   ]
  },
  {
   "cell_type": "code",
   "execution_count": 46,
   "metadata": {},
   "outputs": [],
   "source": [
    "data[\"annotations\"] = annots\n",
    "data[\"images\"] = images\n",
    "data[\"categories\"] = categories"
   ]
  },
  {
   "cell_type": "code",
   "execution_count": 48,
   "metadata": {},
   "outputs": [
    {
     "data": {
      "text/plain": [
       "11828"
      ]
     },
     "execution_count": 48,
     "metadata": {},
     "output_type": "execute_result"
    }
   ],
   "source": [
    "len(data[\"images\"])"
   ]
  },
  {
   "cell_type": "code",
   "execution_count": null,
   "metadata": {},
   "outputs": [],
   "source": [
    "def extract_coco(inFile, outFile,subset, percentage):\n",
    "    \"\"\"Function to extarct a subset from coco\n",
    "    Parameters:\n",
    "            infile: annotation file (json)\n",
    "            outfile: output annotation file (json)\n",
    "            subset: list of selected class ids\n",
    "            percentage: percentage of total images to consider\n",
    "    \"\"\"\n",
    "    with open(inFile) as f: #loading json annotation file\n",
    "        data = json.load(f)\n",
    "    Nb_max = int(len(data[\"images\"]) *percentage) # number of images to keep\n",
    "    image_ids = []\n",
    "    images = data[\"images\"][: Nb_max] # list of kept images\n",
    "    for i in images: # list of kept image ids\n",
    "        image_ids.append(i[\"id\"])\n",
    "        \n",
    "    annots = [] \n",
    "    for annot in data[\"annotations\"]: # filter the annotations\n",
    "        if annot[\"category_id\"] in subset and annot[\"image_id\"] in image_ids: # keep the ones about kept images\n",
    "            annots.append(annot) # and of categorie in subset\n",
    "            \n",
    "    categories = [] # filter the categories\n",
    "    for elem in data[\"categories\"]:\n",
    "        if elem[\"id\"] in subset:\n",
    "            categories.append(elem)\n",
    "    \n",
    "    data[\"annotations\"] = annots # update the data\n",
    "    data[\"images\"] = images\n",
    "    data[\"categories\"] = categories\n",
    "    \n",
    "    with open(outFile, 'w') as data_file: # dump it in the outFile\n",
    "        data = json.dump(data, data_file)\n",
    "    return\n",
    "    "
   ]
  },
  {
   "cell_type": "code",
   "execution_count": null,
   "metadata": {},
   "outputs": [],
   "source": []
  }
 ],
 "metadata": {
  "kernelspec": {
   "display_name": "Python 3",
   "language": "python",
   "name": "python3"
  },
  "language_info": {
   "codemirror_mode": {
    "name": "ipython",
    "version": 3
   },
   "file_extension": ".py",
   "mimetype": "text/x-python",
   "name": "python",
   "nbconvert_exporter": "python",
   "pygments_lexer": "ipython3",
   "version": "3.7.3"
  }
 },
 "nbformat": 4,
 "nbformat_minor": 4
}
