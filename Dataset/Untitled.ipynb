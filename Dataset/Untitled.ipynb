{
 "cells": [
  {
   "cell_type": "code",
   "execution_count": 1,
   "metadata": {},
   "outputs": [],
   "source": [
    "import json"
   ]
  },
  {
   "cell_type": "code",
   "execution_count": 36,
   "metadata": {},
   "outputs": [],
   "source": [
    "\n",
    "with open('/tempory/coco/annotations/instances_train2017.json') as f:\n",
    "  data = json.load(f)"
   ]
  },
  {
   "cell_type": "code",
   "execution_count": 37,
   "metadata": {},
   "outputs": [],
   "source": [
    "Nb_max = int(len(data[\"images\"]) *0.1)\n",
    "image_ids = []\n",
    "images = data[\"images\"][: Nb_max]\n",
    "for i in images:\n",
    "    image_ids.append(i[\"id\"])\n",
    "    \n",
    "    \n"
   ]
  },
  {
   "cell_type": "code",
   "execution_count": 40,
   "metadata": {},
   "outputs": [],
   "source": [
    "subset= [18, 10, 2, 58]\n",
    "annots = []\n",
    "for annot in data[\"annotations\"][:10]:\n",
    "    if annot[\"category_id\"] in subset and annot[\"image_id\"] in image_ids:\n",
    "        annots.append(annot)\n",
    "        "
   ]
  },
  {
   "cell_type": "code",
   "execution_count": 44,
   "metadata": {},
   "outputs": [],
   "source": [
    "categories = []\n",
    "for elem in data[\"categories\"]:\n",
    "    if elem[\"id\"] in subset:\n",
    "        categories.append(elem)"
   ]
  },
  {
   "cell_type": "code",
   "execution_count": 46,
   "metadata": {},
   "outputs": [],
   "source": [
    "data[\"annotations\"] = annots\n",
    "data[\"images\"] = images\n",
    "data[\"categories\"] = categories"
   ]
  },
  {
   "cell_type": "code",
   "execution_count": 48,
   "metadata": {},
   "outputs": [
    {
     "data": {
      "text/plain": [
       "11828"
      ]
     },
     "execution_count": 48,
     "metadata": {},
     "output_type": "execute_result"
    }
   ],
   "source": [
    "len(data[\"images\"])"
   ]
  },
  {
   "cell_type": "code",
   "execution_count": 2,
   "metadata": {},
   "outputs": [],
   "source": [
    "def extract_coco(inFile, outFile,subset):\n",
    "    \"\"\"Function to extarct a subset from coco\n",
    "    Parameters:\n",
    "            infile: annotation file (json)\n",
    "            outfile: output annotation file (json)\n",
    "            subset: list of selected class ids\n",
    "            percentage: percentage of total images to consider\n",
    "    \"\"\"\n",
    "    with open(inFile) as f: #loading json annotation file\n",
    "        data = json.load(f)\n",
    "    \"\"\"Nb_max = int(len(data[\"images\"]) *percentage) # number of images to keep\n",
    "    image_ids = []\n",
    "    images = data[\"images\"][: Nb_max] # list of kept images\n",
    "    for i in images: # list of kept image ids\n",
    "        image_ids.append(i[\"id\"])\"\"\"\n",
    "    images_ids = set()    \n",
    "    annots = [] \n",
    "    for annot in data[\"annotations\"]: # filter the annotations\n",
    "        if annot[\"category_id\"] in subset: # keep the ones about kept images\n",
    "            annots.append(annot) # and of categorie in subset\n",
    "            images_ids.add(annot[\"image_id\"])\n",
    "            \n",
    "    images = [] # list of kept images\n",
    "    for i in data[\"images\"]: # list of kept image ids\n",
    "        if i[\"id\"] in images_ids:\n",
    "            images.append(i)\n",
    "            \n",
    "    categories = [] # filter the categories\n",
    "    for elem in data[\"categories\"]:\n",
    "        if elem[\"id\"] in subset:\n",
    "            categories.append(elem)\n",
    "    \n",
    "    data[\"annotations\"] = annots # update the data\n",
    "    data[\"images\"] = images\n",
    "    data[\"categories\"] = categories\n",
    "    \n",
    "    with open(outFile, 'w') as data_file: # dump it in the outFile\n",
    "        data = json.dump(data, data_file)\n",
    "    return\n",
    "    "
   ]
  },
  {
   "cell_type": "code",
   "execution_count": 3,
   "metadata": {},
   "outputs": [],
   "source": [
    "import numpy as np\n",
    "inFile = f\"/tempory/coco/annotations/instances_train2017.json\"\n",
    "outFile = f\"./coco_light/coco_light_train.json\"\n",
    "subset = np.random.choice(np.arange(2,90), 2).tolist()\n"
   ]
  },
  {
   "cell_type": "code",
   "execution_count": 4,
   "metadata": {},
   "outputs": [
    {
     "data": {
      "text/plain": [
       "[35, 72]"
      ]
     },
     "execution_count": 4,
     "metadata": {},
     "output_type": "execute_result"
    }
   ],
   "source": [
    "subset"
   ]
  },
  {
   "cell_type": "code",
   "execution_count": 5,
   "metadata": {},
   "outputs": [],
   "source": [
    "extract_coco(inFile, outFile, subset)"
   ]
  },
  {
   "cell_type": "code",
   "execution_count": 14,
   "metadata": {},
   "outputs": [],
   "source": [
    "inFile = f\"/tempory/coco/annotations/instances_val2017.json\"\n",
    "outFile = f\"./coco_light/coco_light_validation.json\"\n",
    "extract_coco(inFile, outFile, subset)"
   ]
  },
  {
   "cell_type": "code",
   "execution_count": 60,
   "metadata": {},
   "outputs": [],
   "source": []
  },
  {
   "cell_type": "code",
   "execution_count": 64,
   "metadata": {},
   "outputs": [],
   "source": [
    "inFile = f\"/tempory/coco/annotations/instances_train2017.json\"\n",
    "outFile = f\"./coco_test/coco_test_train.json\"\n",
    "percentage = 0.1\n",
    "subset = np.random.choice(90, 4).tolist()\n",
    "extract_coco(inFile, outFile, subset)"
   ]
  },
  {
   "cell_type": "code",
   "execution_count": 65,
   "metadata": {},
   "outputs": [],
   "source": [
    "inFile = f\"/tempory/coco/annotations/instances_val2017.json\"\n",
    "outFile = f\"./coco_test/coco_test_val.json\"\n",
    "extract_coco(inFile, outFile, subset, percentage)"
   ]
  },
  {
   "cell_type": "code",
   "execution_count": 15,
   "metadata": {},
   "outputs": [],
   "source": [
    "with open(f\"./coco_light/coco_light_validation.json\") as f: #loading json annotation file\n",
    "        data = json.load(f)"
   ]
  },
  {
   "cell_type": "code",
   "execution_count": 16,
   "metadata": {},
   "outputs": [
    {
     "data": {
      "text/plain": [
       "[{'supercategory': 'sports', 'id': 35, 'name': 'skis'},\n",
       " {'supercategory': 'electronic', 'id': 72, 'name': 'tv'}]"
      ]
     },
     "execution_count": 16,
     "metadata": {},
     "output_type": "execute_result"
    }
   ],
   "source": [
    "data[\"categories\"]"
   ]
  },
  {
   "cell_type": "code",
   "execution_count": 12,
   "metadata": {},
   "outputs": [
    {
     "data": {
      "text/plain": [
       "12451"
      ]
     },
     "execution_count": 12,
     "metadata": {},
     "output_type": "execute_result"
    }
   ],
   "source": [
    "len(data[\"annotations\"])"
   ]
  },
  {
   "cell_type": "code",
   "execution_count": null,
   "metadata": {},
   "outputs": [],
   "source": []
  },
  {
   "cell_type": "code",
   "execution_count": null,
   "metadata": {},
   "outputs": [],
   "source": [
    "f\"/tempory/coco/images/val2017/\""
   ]
  }
 ],
 "metadata": {
  "kernelspec": {
   "display_name": "Python 3",
   "language": "python",
   "name": "python3"
  },
  "language_info": {
   "codemirror_mode": {
    "name": "ipython",
    "version": 3
   },
   "file_extension": ".py",
   "mimetype": "text/x-python",
   "name": "python",
   "nbconvert_exporter": "python",
   "pygments_lexer": "ipython3",
   "version": "3.7.3"
  }
 },
 "nbformat": 4,
 "nbformat_minor": 4
}
